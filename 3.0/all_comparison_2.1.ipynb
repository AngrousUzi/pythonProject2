{
 "cells": [
  {
   "cell_type": "raw",
   "metadata": {
    "vscode": {
     "languageId": "raw"
    }
   },
   "source": [
    "# 股票市场同步性分析工具\n",
    "\n",
    "## 项目概述\n",
    "这个Jupyter Notebook实现了一个完整的股票市场同步性分析工具，主要用于计算股票指数成分股之间的同步性指标。\n",
    "\n",
    "## 主要功能\n",
    "1. **高频数据处理**：读取和处理股票和指数的高频交易数据\n",
    "2. **数据重采样**：将高频数据按指定频率重采样，处理中国股市特殊的交易时段\n",
    "3. **收益率计算**：计算股票和指数的收益率，剔除隔夜收益率\n",
    "4. **同步性分析**：通过回归分析计算个股与指数的同步性指标（R²）\n",
    "5. **时间序列分析**：支持分时段计算同步性变化\n",
    "\n",
    "## 数据源\n",
    "- 使用E盘存储的高频股票交易数据（CSV格式）\n",
    "- 支持沪深交易所数据（SH/SZ）\n",
    "- 数据频率可自定义（分钟级别）\n",
    "\n",
    "## 核心算法\n",
    "- 使用OLS回归分析计算个股与指数的Beta系数和R²\n",
    "- 采用方差加权方式计算整体同步性指标\n",
    "- 处理停牌、集合竞价等特殊交易情况\n",
    "\n",
    "## 使用场景\n",
    "- 学术研究：分析市场微观结构和价格发现机制\n",
    "- 风险管理：评估市场系统性风险水平\n",
    "- 量化投资：开发基于同步性的交易策略\n",
    "\n",
    "---\n"
   ]
  },
  {
   "cell_type": "code",
   "execution_count": 9,
   "id": "initial_id",
   "metadata": {
    "ExecuteTime": {
     "end_time": "2025-04-16T01:22:48.615209Z",
     "start_time": "2025-04-16T01:22:48.607419Z"
    }
   },
   "outputs": [],
   "source": [
    "# 导入必要的数据分析和可视化库\n",
    "import pandas as pd                       # 用于数据处理和分析\n",
    "import numpy as np                        # 用于数值计算\n",
    "import statsmodels.api as sm              # 用于统计建模（回归分析）\n",
    "from statsmodels.tools.sm_exceptions import MissingDataError  # 处理缺失数据异常\n",
    "\n",
    "import matplotlib.pyplot as plt          # 用于数据可视化\n",
    "import datetime as dt                     # 用于日期时间处理\n",
    "\n",
    "# 设置matplotlib的中文字体显示 - 思源宋体无法显示时可以修改为SimSong或SimHei等\n",
    "plt.rcParams[\"font.family\"] = \"Source Han Serif CN\"\n",
    "# 设置图形的默认大小为16x8英寸\n",
    "plt.rcParams['figure.figsize']=[16,8]"
   ]
  },
  {
   "cell_type": "code",
   "execution_count": null,
   "id": "7e19d5ca",
   "metadata": {},
   "outputs": [],
   "source": [
    "from get_data import get_data\n",
    "from resample import resample\n",
    "from cal_return import cal_return"
   ]
  },
  {
   "cell_type": "code",
   "execution_count": null,
   "id": "46f039b3554b59dd",
   "metadata": {
    "ExecuteTime": {
     "end_time": "2025-04-16T01:22:48.888152Z",
     "start_time": "2025-04-16T01:22:48.874872Z"
    }
   },
   "outputs": [],
   "source": []
  },
  {
   "cell_type": "raw",
   "metadata": {
    "vscode": {
     "languageId": "raw"
    }
   },
   "source": [
    "## 使用示例\n",
    "\n",
    "### 1. 创建指数数据对象\n",
    "首先创建一个IndexData对象来处理沪深300指数的数据：\n"
   ]
  },
  {
   "cell_type": "code",
   "execution_count": null,
   "id": "de192d3f0987919b",
   "metadata": {
    "ExecuteTime": {
     "end_time": "2025-04-16T01:24:32.031040Z",
     "start_time": "2025-04-16T01:24:31.987448Z"
    }
   },
   "outputs": [],
   "source": [
    "# 股票指数同步性分析类\n",
    "# 只保留index的数据和计算结果，stock的数据每次调用计算函数的时候读取\n",
    "# 目前只能使用一年内的计算\n",
    "class IndexData:\n",
    "    \"\"\"\n",
    "    股票指数数据处理和同步性计算类\n",
    "    \n",
    "    这个类用于处理股票指数的高频数据，计算指数成分股的同步性指标\n",
    "    包括数据读取、重采样、收益率计算和回归分析等功能\n",
    "    \"\"\"\n",
    "    \n",
    "    def __init__(self, index_name, start, end):\n",
    "        \"\"\"\n",
    "        初始化IndexData对象\n",
    "        \n",
    "        参数:\n",
    "        index_name (str): 指数名称，如\"SH000300\"（沪深300）\n",
    "        start (str): 分析开始日期，格式如\"2024-01-01\"\n",
    "        end (str): 分析结束日期，格式如\"2024-12-31\"\n",
    "        \"\"\"\n",
    "        # 类数据识别信息（基本信息）\n",
    "        self.index_name = index_name      # 指数名称\n",
    "        self.exg = index_name[:2]         # 交易所代码（SH/SZ）\n",
    "        self.start = pd.to_datetime(start)  # 开始日期\n",
    "        self.end = pd.to_datetime(end)      # 结束日期\n",
    "        \n",
    "        # 类数据成份信息和指数\n",
    "        self.composites, self.composite_num = self.get_composites()\n",
    "        # df_index一年的内存占用大约300MB\n",
    "        # 以datetime.date 格式存储work_day\n",
    "        self.df_index, self.workday_list = self.get_index_data()\n",
    "    \n",
    "        # 类数据计算信息（在调用set_freq方法后设置）\n",
    "        self.freq = None           # 重采样频率\n",
    "        self.t_range = None        # 有效交易时间范围\n",
    "        self.index_return = None   # 指数收益率序列\n",
    "        \n",
    "\n",
    "    def get_composites(self):\n",
    "        \"\"\"\n",
    "        获取指数成分股信息方法\n",
    "        \n",
    "        从Excel文件中读取指数的成分股信息，并进行数据清洗和格式化\n",
    "        \n",
    "        返回:\n",
    "        tuple: (composites, composite_num)\n",
    "            - composites (pd.DataFrame): 包含三列的DataFrame：full_code（完整代码）, exg（交易所）, code（股票代码）\n",
    "            - composite_num (int): 成分股数量\n",
    "        \"\"\"\n",
    "        index_name = self.index_name\n",
    "        composites = pd.DataFrame()\n",
    "        # 从Excel文件读取证券代码列\n",
    "        composites['full_code'] = pd.read_excel(f'{index_name}.xlsx')['证券代码']\n",
    "\n",
    "        # 删去同花顺标签（最后两行通常是数据来源信息）\n",
    "        composites.drop(index=composites.index[-2:], inplace=True)\n",
    "\n",
    "        # 解析股票代码格式（例如：000001.SZ -> SZ000001）\n",
    "        composites['exg'] = composites['full_code'].str.split('.').str[1]      # 提取交易所代码\n",
    "        composites['code'] = composites['full_code'].str.split('.').str[0]     # 提取股票代码\n",
    "        composites['full_code'] = composites['exg'] + composites['code']       # 重新组合为统一格式\n",
    "        \n",
    "        composite_num = composites.shape[0]\n",
    "        print(f\"{index_name}成分股个数：{composite_num}\")\n",
    "        return composites, composite_num\n",
    "    \n",
    "    def get_industry(self):\n",
    "\n",
    "\n",
    "def set_freq(self,freq:str,auction_am=True,first_exclude:int=0):\n",
    "    \"\"\"\n",
    "    计算之前 先确定高频数据的计算频率、计算的时间范围\n",
    "    如果是全天范围的计算，不得超过3分钟，因为下午从14：57-15：00属于集合竞价\n",
    "    :param freq: 重采样频率\n",
    "    :param auction_am: 是否包括早盘集合竞价\n",
    "    :param first_exclude: 剔除开盘后连续交易期间开始多少个freq的数据 \n",
    "    :return: \n",
    "    \"\"\"\n",
    "    self.freq=freq\n",
    "    \n",
    "    # 对于指数而言，连续交易之前提供两个价格\n",
    "    # 9:10:00 昨日收盘价格\n",
    "    # 9:25:00 集合竞价结束后，由个股开盘价格加权计算得出的指数开盘价格\n",
    "\n",
    "    # 14:57：00-15:00:00 收盘前3分钟采取集合竞价\n",
    "    \n",
    "    # 允许时间范围有延迟 允许延迟为59秒 实际数据中一般延迟不超过10秒\n",
    "    # 允许59秒的延迟同样意味着最大resample的时间限度为1分钟\n",
    "    \n",
    "    # t_last_close=pd.date_range(start=\"09:10:00\",end=\"09:10:59\",freq=\"S\")\n",
    "    \n",
    "    t_continuous_am_exclude_5=pd.date_range(start=\"09:30:00\",end=\"11:30:59\",freq=\"S\")\n",
    "    t_continuous_pm=pd.date_range(start=\"13:00:00\",end=\"14:57:59\",freq=\"S\")\n",
    "    t_auction_pm=pd.date_range(start=\"15:00:00\",end=\"15:00:59\",freq=\"S\")\n",
    "    t_range = t_continuous_am_exclude_5.union(t_continuous_pm).union(t_auction_pm)\n",
    "    \n",
    "    if auction_am:\n",
    "        t_auction_am=pd.date_range(start=\"09:25:00\",end=\"09:25:59\",freq=\"S\")\n",
    "        t_range=t_range.union(t_auction_am)\n",
    "        \n",
    "    self.t_range=t_range\n",
    "    self.index_return=cal_return(self.df_index,self.t_range,self.freq)\n",
    "\n",
    "\n",
    "\n",
    "\n",
    "\n",
    "    \n",
    "    def cal_syn(self,start=None,end=None):\n",
    "        # print(start,end)\n",
    "        composites=self.composites.copy()\n",
    "        R2_series=pd.Series(index=composites['full_code'].tolist())\n",
    "        betas=pd.Series(index=composites['full_code'].tolist())\n",
    "        vars=pd.Series(index=composites['full_code'].tolist())\n",
    "        b2v2s=pd.Series(index=composites['full_code'].tolist())\n",
    "        \n",
    "        if start is not None and end is not None:\n",
    "            in_day=False\n",
    "            for date in pd.date_range(start=start,end=end,freq=\"D\"):\n",
    "                if date.date() in self.workday_list:\n",
    "                    in_day=True\n",
    "            if not in_day: \n",
    "                return np.nan,None,None,None,None\n",
    "        \n",
    "        for index,composite in composites.iterrows():\n",
    "            full_code=composite['full_code']\n",
    "            df_stock, halt_list=self.get_stock_data(full_code,start,end)\n",
    "        \n",
    "            stock_return=cal_return(df_stock,self.t_range,self.freq)\n",
    "            \n",
    "            #可能有股票选择区间内没有开盘一直处于停牌\n",
    "            if stock_return.shape[0]>0:\n",
    "                \n",
    "                # 这一步的计算可以进一步优化，因为对于所有的个股，计算beta时使用的(XtX)-1Xt都是相同的\n",
    "                \n",
    "                # 将index_return对齐到个股上\n",
    "                # 因为个股可能停牌，但是指数不会停牌\n",
    "                # 对于期间内停牌的个股，只使用有价格变动区间的数据\n",
    "                \n",
    "                Y = stock_return\n",
    "                X = self.index_return[stock_return.index].copy()\n",
    "                \n",
    "                # print(Y.index)\n",
    "                # print(self.index_return[start:end].index)\n",
    "                # break\n",
    "                \n",
    "                # if (len(X.index)!=len(self.index_return[start:end].index)): \n",
    "                    # print(f\"{full_code}'s index doesn't fully match between {start} and {end}.\")\n",
    "                \n",
    "                X = sm.add_constant(X)  # 添加常数项\n",
    "                try:\n",
    "                    model = sm.OLS(Y, X).fit()\n",
    "                except MissingDataError as e:\n",
    "                    print(f\"{full_code} between {start} and {end} raised {e}.\")\n",
    "                    print(X.shape,Y.shape)\n",
    "                    print(X.isnull().any())\n",
    "                    print(Y.isnull().any())\n",
    "                    print(X)\n",
    "                R2_series.loc[full_code]=model.rsquared\n",
    "                betas.loc[full_code]=model.params[1]  # 获取 β 值\n",
    "                vars.loc[full_code]=stock_return.var(ddof=0)\n",
    "                b2v2s.loc[full_code]=(model.params[1]**2)*(X.iloc[:,0].var(ddof=0))\n",
    "\n",
    "\n",
    "            else:\n",
    "                print(f\"{full_code} doesn't have return data.\")\n",
    "                \n",
    "        var_mkt=self.index_return.var(ddof=0)\n",
    "\n",
    "        # syn2 = (var_mkt * np.square(betas)).sum() / np.sum(vars)\n",
    "        syn2 = b2v2s.sum()/vars.sum()\n",
    "        syn = (R2_series*vars).sum()/vars.sum()\n",
    "        # print(syn,syn2)\n",
    "        return syn,R2_series,betas,vars\n",
    "        \n",
    "    # 这里的period不支持月份运算\n",
    "    def periodic_cal_syn(self,period,start=None,end=None):\n",
    "        syns=pd.DataFrame(columns=[\"syn\"])\n",
    "        if start is None:\n",
    "            start=self.start\n",
    "        if end is None:\n",
    "            end=self.end\n",
    "        for period_start in pd.date_range(start=start,end=end,freq=period):\n",
    "            # 对于pd.date_range(start,end) 包含start和end 因此在选择的时候需要不包含end中的日期\n",
    "            period_end=dt.datetime.strptime(str(period_start),\"%Y-%m-%d %H:%M:%S\")+parse_timedelta(period)-dt.timedelta(seconds=1)\n",
    "            period_end=dt.datetime.strftime(period_end,\"%Y-%m-%d %H:%M:%S\")\n",
    "            # print(period_start,period_end)\n",
    "            \n",
    "            syns.loc[period_start,'syn']=self.cal_syn(period_start,period_end)[0]\n",
    "            print(f'{period_start} to {period_end} done.')\n",
    "        return syns"
   ]
  },
  {
   "cell_type": "raw",
   "metadata": {
    "vscode": {
     "languageId": "raw"
    }
   },
   "source": [
    "### 2. 设置分析频率\n",
    "设置数据重采样的频率为3分钟：\n"
   ]
  },
  {
   "cell_type": "code",
   "execution_count": 23,
   "id": "aec3b1756797b9df",
   "metadata": {
    "ExecuteTime": {
     "end_time": "2025-04-16T01:24:43.695989Z",
     "start_time": "2025-04-16T01:24:43.552962Z"
    }
   },
   "outputs": [
    {
     "name": "stdout",
     "output_type": "stream",
     "text": [
      "SH000300成分股个数：300\n",
      "From 2024-09-01 to 2024-09-04 (included), there are 3 workdays.\n",
      "SH000300 done. "
     ]
    }
   ],
   "source": [
    "start=\"2024-09-01\"\n",
    "end=\"2024-09-04\"\n",
    "cn300=IndexData(\"SH000300\",start,end)\n"
   ]
  },
  {
   "cell_type": "raw",
   "metadata": {
    "vscode": {
     "languageId": "raw"
    }
   },
   "source": [
    "### 3. 计算同步性指标\n",
    "计算整个时间段内沪深300指数成分股的同步性：\n"
   ]
  },
  {
   "cell_type": "code",
   "execution_count": 24,
   "id": "95b6f74f296ef781",
   "metadata": {
    "ExecuteTime": {
     "end_time": "2025-04-16T01:24:46.014156Z",
     "start_time": "2025-04-16T01:24:45.974693Z"
    }
   },
   "outputs": [],
   "source": [
    "cn300.set_freq('3min')"
   ]
  },
  {
   "cell_type": "code",
   "execution_count": 25,
   "id": "30b787975d5878be",
   "metadata": {
    "ExecuteTime": {
     "end_time": "2025-04-16T01:25:58.443165Z",
     "start_time": "2025-04-16T01:24:52.080597Z"
    }
   },
   "outputs": [
    {
     "name": "stdout",
     "output_type": "stream",
     "text": [
      "SH600000 done. SH600009 done. SH600010 done. SH600011 done. SH600015 done. SH600016 done. SH600018 done. SH600019 done. SH600023 done. SH600025 done. SH600026 done. SH600027 done. SH600028 done. SH600029 done. SH600030 done. SH600031 done. SH600036 done. SH600039 done. SH600048 done. SH600050 done. SH600061 done. SH600066 done. SH600085 done. SH600089 done. SH600104 done. SH600111 done. SH600115 done. SH600150 on 2024-09-03 is not found.\n",
      "SH600150 on 2024-09-04 is not found.\n",
      "SH600150 done. SH600160 done. SH600161 done. SH600176 done. SH600183 done. SH600188 done. SH600196 done. SH600219 done. SH600233 done. SH600276 done. SH600309 done. SH600332 done. SH600346 done. SH600362 done. SH600372 done. SH600377 done. SH600406 done. SH600415 done. SH600426 done. SH600436 done. SH600438 done. SH600460 done. SH600482 done. SH600489 done. SH600515 done. SH600519 done. SH600547 done. SH600570 done. SH600584 done. SH600585 done. SH600588 done. SH600600 done. SH600660 done. SH600674 done. SH600690 done. SH600741 done. SH600745 done. SH600760 done. SH600795 done. SH600803 done. SH600809 done. SH600845 done. SH600875 done. SH600886 done. SH600887 done. SH600893 done. SH600900 done. SH600905 done. SH600918 done. SH600919 done. SH600926 done. SH600938 done. SH600941 done. SH600958 done. SH600989 done. SH600999 done. SH601006 done. SH601009 done. SH601012 done. SH601021 done. SH601058 done. SH601059 done. SH601066 done. SH601088 done. SH601100 done. SH601111 done. SH601117 done. SH601127 done. SH601136 done. SH601138 done. SH601166 done. SH601169 done. SH601186 done. SH601211 done. SH601225 done. SH601229 done. SH601236 done. SH601238 done. SH601288 done. SH601318 done. SH601319 done. SH601328 done. SH601336 done. SH601360 done. SH601377 done. SH601390 done. SH601398 done. SH601600 done. SH601601 done. SH601607 done. SH601618 done. SH601628 done. SH601633 done. SH601658 done. SH601668 done. SH601669 done. SH601688 done. SH601689 done. SH601698 done. SH601699 done. SH601728 done. SH601766 done. SH601788 done. SH601799 done. SH601800 done. SH601808 done. SH601816 done. SH601818 done. SH601838 done. SH601857 done. SH601865 done. SH601868 done. SH601872 done. SH601877 done. SH601878 done. SH601881 done. SH601888 done. SH601898 done. SH601899 done. SH601901 done. SH601916 done. SH601919 done. SH601939 done. SH601985 done. SH601988 done. SH601989 on 2024-09-03 is not found.\n",
      "SH601989 on 2024-09-04 is not found.\n",
      "SH601989 done. SH601995 done. SH601998 done. SH603019 done. SH603195 done. SH603259 done. SH603260 done. SH603288 done. SH603296 done. SH603369 done. SH603392 done. SH603501 done. SH603659 done. SH603799 done. SH603806 done. SH603833 done. SH603986 done. SH603993 done. SH605117 done. SH605499 done. SH688008 done. SH688009 done. SH688012 done. SH688036 done. SH688041 done. SH688082 done. SH688111 done. SH688126 done. SH688169 done. SH688187 done. SH688223 done. SH688256 done. SH688271 done. SH688303 done. SH688396 done. SH688472 done. SH688506 done. SH688599 done. SH688981 done. SZ000001 done. SZ000002 done. SZ000063 done. SZ000100 done. SZ000157 done. SZ000166 done. SZ000301 done. SZ000333 done. SZ000338 done. SZ000408 done. SZ000425 done. SZ000538 done. SZ000568 done. SZ000596 done. SZ000617 done. SZ000625 done. SZ000630 done. SZ000651 done. SZ000661 done. SZ000708 done. SZ000725 done. SZ000768 done. SZ000776 done. SZ000786 done. SZ000792 done. SZ000800 done. SZ000807 done. SZ000858 done. SZ000876 done. SZ000895 done. SZ000938 done. SZ000963 done. SZ000975 done. SZ000977 done. SZ000983 done. SZ000999 done. SZ001289 done. SZ001965 done. SZ001979 done. SZ002001 done. SZ002007 done. SZ002027 done. SZ002028 done. SZ002049 done. SZ002050 done. SZ002074 done. SZ002129 done. SZ002142 done. SZ002179 done. SZ002180 done. SZ002230 done. SZ002236 done. SZ002241 done. SZ002252 done. SZ002271 done. SZ002304 done. SZ002311 done. SZ002352 done. SZ002371 done. SZ002415 done. SZ002422 done. SZ002459 done. SZ002460 done. SZ002463 done. SZ002466 done. SZ002475 done. SZ002493 done. SZ002555 done. SZ002594 done. SZ002601 done. SZ002648 done. SZ002709 done. SZ002714 done. SZ002736 on 2024-09-02 is not found.\n",
      "SZ002736 on 2024-09-03 is not found.\n",
      "SZ002736 on 2024-09-04 is not found.\n",
      "SZ002736 done. SZ002736 doesn't have return data.\n",
      "SZ002812 done. SZ002916 done. SZ002920 done. SZ002938 done. SZ003816 done. SZ300014 done. SZ300015 done. SZ300033 done. SZ300059 done. SZ300122 done. SZ300124 done. SZ300274 done. SZ300308 done. SZ300316 done. SZ300347 done. SZ300394 done. SZ300408 done. SZ300413 done. SZ300418 done. SZ300433 done. SZ300442 done. SZ300450 done. SZ300498 done. SZ300502 done. SZ300628 done. SZ300661 done. SZ300750 done. SZ300759 done. SZ300760 done. SZ300782 done. SZ300832 done. SZ300896 done. SZ300979 done. SZ300999 done. SZ301269 done. "
     ]
    },
    {
     "data": {
      "text/plain": [
       "(0.09649149598684789,\n",
       " SH600000    0.015758\n",
       " SH600009    0.061050\n",
       " SH600010    0.011147\n",
       " SH600011    0.066481\n",
       " SH600015    0.002194\n",
       "               ...   \n",
       " SZ300832    0.022697\n",
       " SZ300896    0.154243\n",
       " SZ300979    0.001061\n",
       " SZ300999    0.100112\n",
       " SZ301269    0.109364\n",
       " Length: 300, dtype: float64,\n",
       " SH600000    0.403162\n",
       " SH600009    0.590613\n",
       " SH600010    0.758152\n",
       " SH600011    0.663434\n",
       " SH600015    0.180644\n",
       "               ...   \n",
       " SZ300832    0.606739\n",
       " SZ300896    0.999351\n",
       " SZ300979    0.117476\n",
       " SZ300999    0.773638\n",
       " SZ301269    1.004478\n",
       " Length: 300, dtype: float64,\n",
       " SH600000    0.000004\n",
       " SH600009    0.000002\n",
       " SH600010    0.000021\n",
       " SH600011    0.000003\n",
       " SH600015    0.000006\n",
       "               ...   \n",
       " SZ300832    0.000007\n",
       " SZ300896    0.000003\n",
       " SZ300979    0.000005\n",
       " SZ300999    0.000002\n",
       " SZ301269    0.000004\n",
       " Length: 300, dtype: float64,\n",
       " SH600000    0.0\n",
       " SH600009    0.0\n",
       " SH600010    0.0\n",
       " SH600011    0.0\n",
       " SH600015    0.0\n",
       "            ... \n",
       " SZ300832    0.0\n",
       " SZ300896    0.0\n",
       " SZ300979    0.0\n",
       " SZ300999    0.0\n",
       " SZ301269    0.0\n",
       " Length: 300, dtype: float64)"
      ]
     },
     "execution_count": 25,
     "metadata": {},
     "output_type": "execute_result"
    }
   ],
   "source": [
    "cn300.cal_syn()"
   ]
  },
  {
   "cell_type": "code",
   "execution_count": 7,
   "id": "62d317fe9088f2d7",
   "metadata": {
    "ExecuteTime": {
     "end_time": "2025-04-06T17:01:36.394108Z",
     "start_time": "2025-04-06T17:00:47.866135Z"
    }
   },
   "outputs": [
    {
     "name": "stdout",
     "output_type": "stream",
     "text": [
      "SH000300成分股个数：300\n",
      "From 2024-01-01 to 2024-12-31 (included), there are 241 workdays.\n",
      "SH000300 done. SH000905成分股个数：500\n",
      "From 2024-01-01 to 2024-12-31 (included), there are 241 workdays.\n",
      "SH000905 done. SH000852成分股个数：1000\n",
      "From 2024-01-01 to 2024-12-31 (included), there are 241 workdays.\n",
      "SH000852 done. "
     ]
    }
   ],
   "source": [
    "start=\"2024-01-01\"\n",
    "end=\"2024-12-31\"\n",
    "\n",
    "cn300=IndexData(\"SH000300\",start,end)\n",
    "cn300.set_freq(\"3min\")\n",
    "cn500=IndexData(\"SH000905\",start,end)\n",
    "cn500.set_freq(\"5min\")\n",
    "cn1000=IndexData(\"SH000852\",start,end)\n",
    "cn1000.set_freq(\"5min\")\n",
    "# syns=cn300.periodic_cal_syn(\"D\",start,end)"
   ]
  },
  {
   "cell_type": "code",
   "execution_count": 8,
   "id": "7c0d81c2a8e8431f",
   "metadata": {
    "ExecuteTime": {
     "end_time": "2025-04-06T17:42:56.710588Z",
     "start_time": "2025-04-06T17:01:36.394108Z"
    }
   },
   "outputs": [
    {
     "name": "stdout",
     "output_type": "stream",
     "text": [
      "2024-01-01 00:00:00 to 2024-01-01 23:59:59 done.\n",
      "2024-01-02 00:00:00 to 2024-01-02 23:59:59 done.\n",
      "                     Price       original_time      5min\n",
      "Time                                                    \n",
      "2024-01-03 09:25:00    0.0 2024-01-03 09:25:05  09:25:05\n",
      "2024-01-03 00:00:00 to 2024-01-03 23:59:59 done.\n",
      "2024-01-04 00:00:00 to 2024-01-04 23:59:59 done.\n",
      "                     Price       original_time      5min\n",
      "Time                                                    \n",
      "2024-01-05 09:25:00    0.0 2024-01-05 09:25:03  09:25:03\n",
      "2024-01-05 00:00:00 to 2024-01-05 23:59:59 done.\n",
      "2024-01-06 00:00:00 to 2024-01-06 23:59:59 done.\n",
      "2024-01-07 00:00:00 to 2024-01-07 23:59:59 done.\n",
      "                     Price       original_time      5min\n",
      "Time                                                    \n",
      "2024-01-08 09:25:00    0.0 2024-01-08 09:25:02  09:25:02\n",
      "2024-01-08 00:00:00 to 2024-01-08 23:59:59 done.\n",
      "                     Price       original_time      5min\n",
      "Time                                                    \n",
      "2024-01-09 09:25:00    0.0 2024-01-09 09:25:03  09:25:03\n",
      "2024-01-09 00:00:00 to 2024-01-09 23:59:59 done.\n",
      "                     Price       original_time      5min\n",
      "Time                                                    \n",
      "2024-01-10 09:25:00    0.0 2024-01-10 09:25:02  09:25:02\n",
      "2024-01-10 00:00:00 to 2024-01-10 23:59:59 done.\n",
      "2024-01-11 00:00:00 to 2024-01-11 23:59:59 done.\n",
      "                     Price       original_time      5min\n",
      "Time                                                    \n",
      "2024-01-12 09:25:00    0.0 2024-01-12 09:25:05  09:25:05\n",
      "2024-01-12 00:00:00 to 2024-01-12 23:59:59 done.\n",
      "2024-01-13 00:00:00 to 2024-01-13 23:59:59 done.\n",
      "2024-01-14 00:00:00 to 2024-01-14 23:59:59 done.\n",
      "2024-01-15 00:00:00 to 2024-01-15 23:59:59 done.\n",
      "2024-01-16 00:00:00 to 2024-01-16 23:59:59 done.\n",
      "                     Price       original_time      5min\n",
      "Time                                                    \n",
      "2024-01-17 09:25:00    0.0 2024-01-17 09:25:04  09:25:04\n",
      "2024-01-17 00:00:00 to 2024-01-17 23:59:59 done.\n",
      "2024-01-18 00:00:00 to 2024-01-18 23:59:59 done.\n",
      "2024-01-19 00:00:00 to 2024-01-19 23:59:59 done.\n",
      "2024-01-20 00:00:00 to 2024-01-20 23:59:59 done.\n",
      "2024-01-21 00:00:00 to 2024-01-21 23:59:59 done.\n",
      "                     Price       original_time      5min\n",
      "Time                                                    \n",
      "2024-01-22 09:25:00    0.0 2024-01-22 09:25:02  09:25:02\n",
      "2024-01-22 00:00:00 to 2024-01-22 23:59:59 done.\n",
      "2024-01-23 00:00:00 to 2024-01-23 23:59:59 done.\n",
      "                     Price       original_time      5min\n",
      "Time                                                    \n",
      "2024-01-24 09:25:00    0.0 2024-01-24 09:25:05  09:25:05\n",
      "2024-01-24 00:00:00 to 2024-01-24 23:59:59 done.\n",
      "2024-01-25 00:00:00 to 2024-01-25 23:59:59 done.\n",
      "2024-01-26 00:00:00 to 2024-01-26 23:59:59 done.\n",
      "2024-01-27 00:00:00 to 2024-01-27 23:59:59 done.\n",
      "2024-01-28 00:00:00 to 2024-01-28 23:59:59 done.\n",
      "2024-01-29 00:00:00 to 2024-01-29 23:59:59 done.\n",
      "2024-01-30 00:00:00 to 2024-01-30 23:59:59 done.\n",
      "2024-01-31 00:00:00 to 2024-01-31 23:59:59 done.\n",
      "2024-02-01 00:00:00 to 2024-02-01 23:59:59 done.\n",
      "2024-02-02 00:00:00 to 2024-02-02 23:59:59 done.\n",
      "2024-02-03 00:00:00 to 2024-02-03 23:59:59 done.\n",
      "2024-02-04 00:00:00 to 2024-02-04 23:59:59 done.\n",
      "2024-02-05 00:00:00 to 2024-02-05 23:59:59 done.\n",
      "2024-02-06 00:00:00 to 2024-02-06 23:59:59 done.\n",
      "2024-02-07 00:00:00 to 2024-02-07 23:59:59 done.\n",
      "2024-02-08 00:00:00 to 2024-02-08 23:59:59 done.\n",
      "2024-02-09 00:00:00 to 2024-02-09 23:59:59 done.\n",
      "2024-02-10 00:00:00 to 2024-02-10 23:59:59 done.\n",
      "2024-02-11 00:00:00 to 2024-02-11 23:59:59 done.\n",
      "2024-02-12 00:00:00 to 2024-02-12 23:59:59 done.\n",
      "2024-02-13 00:00:00 to 2024-02-13 23:59:59 done.\n",
      "2024-02-14 00:00:00 to 2024-02-14 23:59:59 done.\n",
      "2024-02-15 00:00:00 to 2024-02-15 23:59:59 done.\n",
      "2024-02-16 00:00:00 to 2024-02-16 23:59:59 done.\n",
      "2024-02-17 00:00:00 to 2024-02-17 23:59:59 done.\n",
      "2024-02-18 00:00:00 to 2024-02-18 23:59:59 done.\n",
      "2024-02-19 00:00:00 to 2024-02-19 23:59:59 done.\n",
      "2024-02-20 00:00:00 to 2024-02-20 23:59:59 done.\n",
      "                     Price       original_time      5min\n",
      "Time                                                    \n",
      "2024-02-21 09:25:00    0.0 2024-02-21 09:25:03  09:25:03\n",
      "2024-02-21 00:00:00 to 2024-02-21 23:59:59 done.\n",
      "                     Price       original_time      5min\n",
      "Time                                                    \n",
      "2024-02-22 09:25:00    0.0 2024-02-22 09:25:03  09:25:03\n",
      "2024-02-22 00:00:00 to 2024-02-22 23:59:59 done.\n",
      "2024-02-23 00:00:00 to 2024-02-23 23:59:59 done.\n",
      "2024-02-24 00:00:00 to 2024-02-24 23:59:59 done.\n",
      "2024-02-25 00:00:00 to 2024-02-25 23:59:59 done.\n",
      "2024-02-26 00:00:00 to 2024-02-26 23:59:59 done.\n",
      "                     Price       original_time      5min\n",
      "Time                                                    \n",
      "2024-02-27 09:25:00    0.0 2024-02-27 09:25:03  09:25:03\n",
      "2024-02-27 00:00:00 to 2024-02-27 23:59:59 done.\n",
      "2024-02-28 00:00:00 to 2024-02-28 23:59:59 done.\n",
      "2024-02-29 00:00:00 to 2024-02-29 23:59:59 done.\n",
      "2024-03-01 00:00:00 to 2024-03-01 23:59:59 done.\n",
      "2024-03-02 00:00:00 to 2024-03-02 23:59:59 done.\n",
      "2024-03-03 00:00:00 to 2024-03-03 23:59:59 done.\n",
      "2024-03-04 00:00:00 to 2024-03-04 23:59:59 done.\n"
     ]
    },
    {
     "name": "stderr",
     "output_type": "stream",
     "text": [
      "D:\\Ctrans\\Programs\\anaconda3\\Lib\\site-packages\\statsmodels\\regression\\linear_model.py:1781: RuntimeWarning: invalid value encountered in scalar divide\n",
      "  return 1 - self.ssr/self.centered_tss\n"
     ]
    },
    {
     "name": "stdout",
     "output_type": "stream",
     "text": [
      "2024-03-05 00:00:00 to 2024-03-05 23:59:59 done.\n",
      "                     Price       original_time      5min\n",
      "Time                                                    \n",
      "2024-03-06 09:25:00    0.0 2024-03-06 09:25:04  09:25:04\n",
      "2024-03-06 00:00:00 to 2024-03-06 23:59:59 done.\n",
      "                     Price       original_time      5min\n",
      "Time                                                    \n",
      "2024-03-07 09:25:00    0.0 2024-03-07 09:25:03  09:25:03\n",
      "2024-03-07 00:00:00 to 2024-03-07 23:59:59 done.\n",
      "                     Price       original_time      5min\n",
      "Time                                                    \n",
      "2024-03-08 09:25:00    0.0 2024-03-08 09:25:02  09:25:02\n",
      "2024-03-08 00:00:00 to 2024-03-08 23:59:59 done.\n",
      "2024-03-09 00:00:00 to 2024-03-09 23:59:59 done.\n",
      "2024-03-10 00:00:00 to 2024-03-10 23:59:59 done.\n",
      "2024-03-11 00:00:00 to 2024-03-11 23:59:59 done.\n",
      "2024-03-12 00:00:00 to 2024-03-12 23:59:59 done.\n",
      "2024-03-13 00:00:00 to 2024-03-13 23:59:59 done.\n",
      "2024-03-14 00:00:00 to 2024-03-14 23:59:59 done.\n",
      "2024-03-15 00:00:00 to 2024-03-15 23:59:59 done.\n",
      "2024-03-16 00:00:00 to 2024-03-16 23:59:59 done.\n",
      "2024-03-17 00:00:00 to 2024-03-17 23:59:59 done.\n",
      "2024-03-18 00:00:00 to 2024-03-18 23:59:59 done.\n",
      "                     Price       original_time      5min\n",
      "Time                                                    \n",
      "2024-03-19 09:25:00    0.0 2024-03-19 09:25:03  09:25:03\n",
      "2024-03-19 00:00:00 to 2024-03-19 23:59:59 done.\n",
      "SH600584 on 2024-03-20 is not found.\n",
      "SH600584 doesn't have return data.\n",
      "2024-03-20 00:00:00 to 2024-03-20 23:59:59 done.\n",
      "SH600584 on 2024-03-21 is not found.\n",
      "SH600584 doesn't have return data.\n",
      "2024-03-21 00:00:00 to 2024-03-21 23:59:59 done.\n",
      "SH600584 on 2024-03-22 is not found.\n",
      "SH600584 doesn't have return data.\n",
      "2024-03-22 00:00:00 to 2024-03-22 23:59:59 done.\n",
      "2024-03-23 00:00:00 to 2024-03-23 23:59:59 done.\n",
      "2024-03-24 00:00:00 to 2024-03-24 23:59:59 done.\n",
      "SH600584 on 2024-03-25 is not found.\n",
      "SH600584 doesn't have return data.\n",
      "2024-03-25 00:00:00 to 2024-03-25 23:59:59 done.\n",
      "SH600584 on 2024-03-26 is not found.\n",
      "SH600584 doesn't have return data.\n",
      "2024-03-26 00:00:00 to 2024-03-26 23:59:59 done.\n",
      "                     Price       original_time      5min\n",
      "Time                                                    \n",
      "2024-03-27 09:25:00    0.0 2024-03-27 09:25:03  09:25:03\n",
      "2024-03-27 00:00:00 to 2024-03-27 23:59:59 done.\n",
      "2024-03-28 00:00:00 to 2024-03-28 23:59:59 done.\n",
      "                     Price       original_time      5min\n",
      "Time                                                    \n",
      "2024-03-29 09:25:00    0.0 2024-03-29 09:25:06  09:25:06\n",
      "2024-03-29 00:00:00 to 2024-03-29 23:59:59 done.\n",
      "2024-03-30 00:00:00 to 2024-03-30 23:59:59 done.\n",
      "2024-03-31 00:00:00 to 2024-03-31 23:59:59 done.\n",
      "2024-04-01 00:00:00 to 2024-04-01 23:59:59 done.\n",
      "2024-04-02 00:00:00 to 2024-04-02 23:59:59 done.\n",
      "2024-04-03 00:00:00 to 2024-04-03 23:59:59 done.\n",
      "2024-04-04 00:00:00 to 2024-04-04 23:59:59 done.\n",
      "2024-04-05 00:00:00 to 2024-04-05 23:59:59 done.\n",
      "2024-04-06 00:00:00 to 2024-04-06 23:59:59 done.\n",
      "2024-04-07 00:00:00 to 2024-04-07 23:59:59 done.\n",
      "2024-04-08 00:00:00 to 2024-04-08 23:59:59 done.\n",
      "2024-04-09 00:00:00 to 2024-04-09 23:59:59 done.\n",
      "                     Price       original_time      5min\n",
      "Time                                                    \n",
      "2024-04-10 09:25:00    0.0 2024-04-10 09:25:02  09:25:02\n",
      "2024-04-10 00:00:00 to 2024-04-10 23:59:59 done.\n"
     ]
    },
    {
     "name": "stderr",
     "output_type": "stream",
     "text": [
      "D:\\Ctrans\\Programs\\anaconda3\\Lib\\site-packages\\statsmodels\\regression\\linear_model.py:1781: RuntimeWarning: invalid value encountered in scalar divide\n",
      "  return 1 - self.ssr/self.centered_tss\n"
     ]
    },
    {
     "name": "stdout",
     "output_type": "stream",
     "text": [
      "2024-04-11 00:00:00 to 2024-04-11 23:59:59 done.\n",
      "2024-04-12 00:00:00 to 2024-04-12 23:59:59 done.\n",
      "2024-04-13 00:00:00 to 2024-04-13 23:59:59 done.\n",
      "2024-04-14 00:00:00 to 2024-04-14 23:59:59 done.\n",
      "2024-04-15 00:00:00 to 2024-04-15 23:59:59 done.\n",
      "2024-04-16 00:00:00 to 2024-04-16 23:59:59 done.\n",
      "                     Price       original_time      5min\n",
      "Time                                                    \n",
      "2024-04-17 09:25:00    0.0 2024-04-17 09:25:03  09:25:03\n",
      "2024-04-17 00:00:00 to 2024-04-17 23:59:59 done.\n",
      "2024-04-18 00:00:00 to 2024-04-18 23:59:59 done.\n",
      "2024-04-19 00:00:00 to 2024-04-19 23:59:59 done.\n",
      "2024-04-20 00:00:00 to 2024-04-20 23:59:59 done.\n",
      "2024-04-21 00:00:00 to 2024-04-21 23:59:59 done.\n",
      "2024-04-22 00:00:00 to 2024-04-22 23:59:59 done.\n",
      "2024-04-23 00:00:00 to 2024-04-23 23:59:59 done.\n"
     ]
    },
    {
     "name": "stderr",
     "output_type": "stream",
     "text": [
      "D:\\Ctrans\\Programs\\anaconda3\\Lib\\site-packages\\statsmodels\\regression\\linear_model.py:1781: RuntimeWarning: invalid value encountered in scalar divide\n",
      "  return 1 - self.ssr/self.centered_tss\n"
     ]
    },
    {
     "name": "stdout",
     "output_type": "stream",
     "text": [
      "2024-04-24 00:00:00 to 2024-04-24 23:59:59 done.\n",
      "2024-04-25 00:00:00 to 2024-04-25 23:59:59 done.\n",
      "2024-04-26 00:00:00 to 2024-04-26 23:59:59 done.\n",
      "2024-04-27 00:00:00 to 2024-04-27 23:59:59 done.\n",
      "2024-04-28 00:00:00 to 2024-04-28 23:59:59 done.\n",
      "2024-04-29 00:00:00 to 2024-04-29 23:59:59 done.\n",
      "2024-04-30 00:00:00 to 2024-04-30 23:59:59 done.\n",
      "2024-05-01 00:00:00 to 2024-05-01 23:59:59 done.\n",
      "2024-05-02 00:00:00 to 2024-05-02 23:59:59 done.\n",
      "2024-05-03 00:00:00 to 2024-05-03 23:59:59 done.\n",
      "2024-05-04 00:00:00 to 2024-05-04 23:59:59 done.\n",
      "2024-05-05 00:00:00 to 2024-05-05 23:59:59 done.\n",
      "2024-05-06 00:00:00 to 2024-05-06 23:59:59 done.\n",
      "2024-05-07 00:00:00 to 2024-05-07 23:59:59 done.\n",
      "2024-05-08 00:00:00 to 2024-05-08 23:59:59 done.\n",
      "2024-05-09 00:00:00 to 2024-05-09 23:59:59 done.\n",
      "2024-05-10 00:00:00 to 2024-05-10 23:59:59 done.\n",
      "2024-05-11 00:00:00 to 2024-05-11 23:59:59 done.\n",
      "2024-05-12 00:00:00 to 2024-05-12 23:59:59 done.\n",
      "2024-05-13 00:00:00 to 2024-05-13 23:59:59 done.\n",
      "2024-05-14 00:00:00 to 2024-05-14 23:59:59 done.\n",
      "2024-05-15 00:00:00 to 2024-05-15 23:59:59 done.\n",
      "2024-05-16 00:00:00 to 2024-05-16 23:59:59 done.\n",
      "2024-05-17 00:00:00 to 2024-05-17 23:59:59 done.\n",
      "2024-05-18 00:00:00 to 2024-05-18 23:59:59 done.\n",
      "2024-05-19 00:00:00 to 2024-05-19 23:59:59 done.\n",
      "2024-05-20 00:00:00 to 2024-05-20 23:59:59 done.\n",
      "2024-05-21 00:00:00 to 2024-05-21 23:59:59 done.\n",
      "2024-05-22 00:00:00 to 2024-05-22 23:59:59 done.\n",
      "2024-05-23 00:00:00 to 2024-05-23 23:59:59 done.\n",
      "2024-05-24 00:00:00 to 2024-05-24 23:59:59 done.\n",
      "2024-05-25 00:00:00 to 2024-05-25 23:59:59 done.\n",
      "2024-05-26 00:00:00 to 2024-05-26 23:59:59 done.\n",
      "2024-05-27 00:00:00 to 2024-05-27 23:59:59 done.\n",
      "2024-05-28 00:00:00 to 2024-05-28 23:59:59 done.\n",
      "2024-05-29 00:00:00 to 2024-05-29 23:59:59 done.\n",
      "                     Price       original_time      5min\n",
      "Time                                                    \n",
      "2024-05-30 09:25:00    0.0 2024-05-30 09:25:04  09:25:04\n",
      "2024-05-30 00:00:00 to 2024-05-30 23:59:59 done.\n",
      "2024-05-31 00:00:00 to 2024-05-31 23:59:59 done.\n",
      "2024-06-01 00:00:00 to 2024-06-01 23:59:59 done.\n",
      "2024-06-02 00:00:00 to 2024-06-02 23:59:59 done.\n",
      "2024-06-03 00:00:00 to 2024-06-03 23:59:59 done.\n",
      "2024-06-04 00:00:00 to 2024-06-04 23:59:59 done.\n",
      "2024-06-05 00:00:00 to 2024-06-05 23:59:59 done.\n",
      "2024-06-06 00:00:00 to 2024-06-06 23:59:59 done.\n",
      "2024-06-07 00:00:00 to 2024-06-07 23:59:59 done.\n",
      "2024-06-08 00:00:00 to 2024-06-08 23:59:59 done.\n",
      "2024-06-09 00:00:00 to 2024-06-09 23:59:59 done.\n",
      "2024-06-10 00:00:00 to 2024-06-10 23:59:59 done.\n",
      "2024-06-11 00:00:00 to 2024-06-11 23:59:59 done.\n",
      "2024-06-12 00:00:00 to 2024-06-12 23:59:59 done.\n",
      "2024-06-13 00:00:00 to 2024-06-13 23:59:59 done.\n",
      "2024-06-14 00:00:00 to 2024-06-14 23:59:59 done.\n",
      "2024-06-15 00:00:00 to 2024-06-15 23:59:59 done.\n",
      "2024-06-16 00:00:00 to 2024-06-16 23:59:59 done.\n",
      "2024-06-17 00:00:00 to 2024-06-17 23:59:59 done.\n",
      "2024-06-18 00:00:00 to 2024-06-18 23:59:59 done.\n",
      "2024-06-19 00:00:00 to 2024-06-19 23:59:59 done.\n",
      "2024-06-20 00:00:00 to 2024-06-20 23:59:59 done.\n",
      "2024-06-21 00:00:00 to 2024-06-21 23:59:59 done.\n",
      "2024-06-22 00:00:00 to 2024-06-22 23:59:59 done.\n",
      "2024-06-23 00:00:00 to 2024-06-23 23:59:59 done.\n",
      "2024-06-24 00:00:00 to 2024-06-24 23:59:59 done.\n",
      "2024-06-25 00:00:00 to 2024-06-25 23:59:59 done.\n",
      "2024-06-26 00:00:00 to 2024-06-26 23:59:59 done.\n",
      "2024-06-27 00:00:00 to 2024-06-27 23:59:59 done.\n",
      "2024-06-28 00:00:00 to 2024-06-28 23:59:59 done.\n",
      "2024-06-29 00:00:00 to 2024-06-29 23:59:59 done.\n",
      "2024-06-30 00:00:00 to 2024-06-30 23:59:59 done.\n",
      "2024-07-01 00:00:00 to 2024-07-01 23:59:59 done.\n",
      "2024-07-02 00:00:00 to 2024-07-02 23:59:59 done.\n",
      "                     Price       original_time      5min\n",
      "Time                                                    \n",
      "2024-07-03 09:25:00    0.0 2024-07-03 09:25:03  09:25:03\n",
      "2024-07-03 00:00:00 to 2024-07-03 23:59:59 done.\n",
      "2024-07-04 00:00:00 to 2024-07-04 23:59:59 done.\n",
      "2024-07-05 00:00:00 to 2024-07-05 23:59:59 done.\n",
      "2024-07-06 00:00:00 to 2024-07-06 23:59:59 done.\n",
      "2024-07-07 00:00:00 to 2024-07-07 23:59:59 done.\n",
      "2024-07-08 00:00:00 to 2024-07-08 23:59:59 done.\n",
      "2024-07-09 00:00:00 to 2024-07-09 23:59:59 done.\n",
      "2024-07-10 00:00:00 to 2024-07-10 23:59:59 done.\n",
      "2024-07-11 00:00:00 to 2024-07-11 23:59:59 done.\n",
      "2024-07-12 00:00:00 to 2024-07-12 23:59:59 done.\n",
      "2024-07-13 00:00:00 to 2024-07-13 23:59:59 done.\n",
      "2024-07-14 00:00:00 to 2024-07-14 23:59:59 done.\n",
      "2024-07-15 00:00:00 to 2024-07-15 23:59:59 done.\n",
      "2024-07-16 00:00:00 to 2024-07-16 23:59:59 done.\n",
      "2024-07-17 00:00:00 to 2024-07-17 23:59:59 done.\n",
      "2024-07-18 00:00:00 to 2024-07-18 23:59:59 done.\n",
      "SH600027 on 2024-07-19 is not found.\n",
      "SH600027 doesn't have return data.\n",
      "2024-07-19 00:00:00 to 2024-07-19 23:59:59 done.\n",
      "2024-07-20 00:00:00 to 2024-07-20 23:59:59 done.\n",
      "2024-07-21 00:00:00 to 2024-07-21 23:59:59 done.\n",
      "SH600027 on 2024-07-22 is not found.\n",
      "SH600027 doesn't have return data.\n",
      "2024-07-22 00:00:00 to 2024-07-22 23:59:59 done.\n",
      "SH600027 on 2024-07-23 is not found.\n",
      "SH600027 doesn't have return data.\n",
      "2024-07-23 00:00:00 to 2024-07-23 23:59:59 done.\n",
      "SH600027 on 2024-07-24 is not found.\n",
      "SH600027 doesn't have return data.\n",
      "2024-07-24 00:00:00 to 2024-07-24 23:59:59 done.\n",
      "SH600027 on 2024-07-25 is not found.\n",
      "SH600027 doesn't have return data.\n",
      "2024-07-25 00:00:00 to 2024-07-25 23:59:59 done.\n",
      "SH600027 on 2024-07-26 is not found.\n",
      "SH600027 doesn't have return data.\n",
      "2024-07-26 00:00:00 to 2024-07-26 23:59:59 done.\n",
      "2024-07-27 00:00:00 to 2024-07-27 23:59:59 done.\n",
      "2024-07-28 00:00:00 to 2024-07-28 23:59:59 done.\n",
      "SH600027 on 2024-07-29 is not found.\n",
      "SH600027 doesn't have return data.\n",
      "2024-07-29 00:00:00 to 2024-07-29 23:59:59 done.\n",
      "SH600027 on 2024-07-30 is not found.\n",
      "SH600027 doesn't have return data.\n",
      "2024-07-30 00:00:00 to 2024-07-30 23:59:59 done.\n",
      "SH600027 on 2024-07-31 is not found.\n",
      "SH600027 doesn't have return data.\n",
      "2024-07-31 00:00:00 to 2024-07-31 23:59:59 done.\n",
      "SH600027 on 2024-08-01 is not found.\n",
      "SH600027 doesn't have return data.\n",
      "2024-08-01 00:00:00 to 2024-08-01 23:59:59 done.\n",
      "2024-08-02 00:00:00 to 2024-08-02 23:59:59 done.\n",
      "2024-08-03 00:00:00 to 2024-08-03 23:59:59 done.\n",
      "2024-08-04 00:00:00 to 2024-08-04 23:59:59 done.\n",
      "2024-08-05 00:00:00 to 2024-08-05 23:59:59 done.\n",
      "                     Price       original_time      5min\n",
      "Time                                                    \n",
      "2024-08-06 09:25:00    0.0 2024-08-06 09:25:04  09:25:04\n",
      "2024-08-06 00:00:00 to 2024-08-06 23:59:59 done.\n",
      "2024-08-07 00:00:00 to 2024-08-07 23:59:59 done.\n",
      "                     Price       original_time      5min\n",
      "Time                                                    \n",
      "2024-08-08 09:25:00    0.0 2024-08-08 09:25:04  09:25:04\n",
      "2024-08-08 00:00:00 to 2024-08-08 23:59:59 done.\n",
      "2024-08-09 00:00:00 to 2024-08-09 23:59:59 done.\n",
      "2024-08-10 00:00:00 to 2024-08-10 23:59:59 done.\n",
      "2024-08-11 00:00:00 to 2024-08-11 23:59:59 done.\n",
      "2024-08-12 00:00:00 to 2024-08-12 23:59:59 done.\n",
      "2024-08-13 00:00:00 to 2024-08-13 23:59:59 done.\n",
      "2024-08-14 00:00:00 to 2024-08-14 23:59:59 done.\n",
      "2024-08-15 00:00:00 to 2024-08-15 23:59:59 done.\n",
      "2024-08-16 00:00:00 to 2024-08-16 23:59:59 done.\n",
      "2024-08-17 00:00:00 to 2024-08-17 23:59:59 done.\n",
      "2024-08-18 00:00:00 to 2024-08-18 23:59:59 done.\n",
      "2024-08-19 00:00:00 to 2024-08-19 23:59:59 done.\n",
      "2024-08-20 00:00:00 to 2024-08-20 23:59:59 done.\n",
      "2024-08-21 00:00:00 to 2024-08-21 23:59:59 done.\n",
      "SZ002736 on 2024-08-22 is not found.\n",
      "SZ002736 doesn't have return data.\n",
      "2024-08-22 00:00:00 to 2024-08-22 23:59:59 done.\n",
      "SZ002736 on 2024-08-23 is not found.\n",
      "SZ002736 doesn't have return data.\n",
      "2024-08-23 00:00:00 to 2024-08-23 23:59:59 done.\n",
      "2024-08-24 00:00:00 to 2024-08-24 23:59:59 done.\n",
      "2024-08-25 00:00:00 to 2024-08-25 23:59:59 done.\n",
      "SZ002736 on 2024-08-26 is not found.\n",
      "SZ002736 doesn't have return data.\n",
      "2024-08-26 00:00:00 to 2024-08-26 23:59:59 done.\n",
      "SZ002736 on 2024-08-27 is not found.\n",
      "SZ002736 doesn't have return data.\n",
      "2024-08-27 00:00:00 to 2024-08-27 23:59:59 done.\n",
      "                     Price       original_time      5min\n",
      "Time                                                    \n",
      "2024-08-28 09:25:00    0.0 2024-08-28 09:25:05  09:25:05\n",
      "SZ002736 on 2024-08-28 is not found.\n",
      "SZ002736 doesn't have return data.\n",
      "2024-08-28 00:00:00 to 2024-08-28 23:59:59 done.\n",
      "SZ002736 on 2024-08-29 is not found.\n",
      "SZ002736 doesn't have return data.\n",
      "2024-08-29 00:00:00 to 2024-08-29 23:59:59 done.\n",
      "                     Price       original_time      5min\n",
      "Time                                                    \n",
      "2024-08-30 09:25:00    0.0 2024-08-30 09:25:04  09:25:04\n",
      "SZ002736 on 2024-08-30 is not found.\n",
      "SZ002736 doesn't have return data.\n",
      "2024-08-30 00:00:00 to 2024-08-30 23:59:59 done.\n",
      "2024-08-31 00:00:00 to 2024-08-31 23:59:59 done.\n",
      "2024-09-01 00:00:00 to 2024-09-01 23:59:59 done.\n",
      "SZ002736 on 2024-09-02 is not found.\n",
      "SZ002736 doesn't have return data.\n",
      "2024-09-02 00:00:00 to 2024-09-02 23:59:59 done.\n",
      "SH600150 on 2024-09-03 is not found.\n",
      "SH600150 doesn't have return data.\n",
      "SH601989 on 2024-09-03 is not found.\n",
      "SH601989 doesn't have return data.\n",
      "SZ002736 on 2024-09-03 is not found.\n",
      "SZ002736 doesn't have return data.\n",
      "2024-09-03 00:00:00 to 2024-09-03 23:59:59 done.\n",
      "SH600150 on 2024-09-04 is not found.\n",
      "SH600150 doesn't have return data.\n",
      "SH601989 on 2024-09-04 is not found.\n",
      "SH601989 doesn't have return data.\n",
      "SZ002736 on 2024-09-04 is not found.\n",
      "SZ002736 doesn't have return data.\n",
      "2024-09-04 00:00:00 to 2024-09-04 23:59:59 done.\n",
      "SH600150 on 2024-09-05 is not found.\n",
      "SH600150 doesn't have return data.\n",
      "SH601989 on 2024-09-05 is not found.\n",
      "SH601989 doesn't have return data.\n",
      "2024-09-05 00:00:00 to 2024-09-05 23:59:59 done.\n",
      "SH600150 on 2024-09-06 is not found.\n",
      "SH600150 doesn't have return data.\n",
      "SH601211 on 2024-09-06 is not found.\n",
      "SH601211 doesn't have return data.\n",
      "SH601989 on 2024-09-06 is not found.\n",
      "SH601989 doesn't have return data.\n",
      "2024-09-06 00:00:00 to 2024-09-06 23:59:59 done.\n",
      "2024-09-07 00:00:00 to 2024-09-07 23:59:59 done.\n",
      "2024-09-08 00:00:00 to 2024-09-08 23:59:59 done.\n",
      "SH600150 on 2024-09-09 is not found.\n",
      "SH600150 doesn't have return data.\n",
      "SH601211 on 2024-09-09 is not found.\n",
      "SH601211 doesn't have return data.\n",
      "SH601989 on 2024-09-09 is not found.\n",
      "SH601989 doesn't have return data.\n",
      "2024-09-09 00:00:00 to 2024-09-09 23:59:59 done.\n",
      "SH600150 on 2024-09-10 is not found.\n",
      "SH600150 doesn't have return data.\n",
      "SH601211 on 2024-09-10 is not found.\n",
      "SH601211 doesn't have return data.\n",
      "SH601989 on 2024-09-10 is not found.\n",
      "SH601989 doesn't have return data.\n",
      "2024-09-10 00:00:00 to 2024-09-10 23:59:59 done.\n",
      "SH600150 on 2024-09-11 is not found.\n",
      "SH600150 doesn't have return data.\n",
      "SH601211 on 2024-09-11 is not found.\n",
      "SH601211 doesn't have return data.\n",
      "SH601989 on 2024-09-11 is not found.\n",
      "SH601989 doesn't have return data.\n",
      "                     Price       original_time      5min\n",
      "Time                                                    \n",
      "2024-09-11 09:25:00    0.0 2024-09-11 09:25:03  09:25:03\n",
      "2024-09-11 00:00:00 to 2024-09-11 23:59:59 done.\n",
      "SH600150 on 2024-09-12 is not found.\n",
      "SH600150 doesn't have return data.\n",
      "SH601211 on 2024-09-12 is not found.\n",
      "SH601211 doesn't have return data.\n",
      "SH601989 on 2024-09-12 is not found.\n",
      "SH601989 doesn't have return data.\n",
      "2024-09-12 00:00:00 to 2024-09-12 23:59:59 done.\n",
      "SH600150 on 2024-09-13 is not found.\n",
      "SH600150 doesn't have return data.\n",
      "SH601211 on 2024-09-13 is not found.\n",
      "SH601211 doesn't have return data.\n",
      "SH601989 on 2024-09-13 is not found.\n",
      "SH601989 doesn't have return data.\n",
      "2024-09-13 00:00:00 to 2024-09-13 23:59:59 done.\n",
      "2024-09-14 00:00:00 to 2024-09-14 23:59:59 done.\n",
      "2024-09-15 00:00:00 to 2024-09-15 23:59:59 done.\n",
      "2024-09-16 00:00:00 to 2024-09-16 23:59:59 done.\n",
      "2024-09-17 00:00:00 to 2024-09-17 23:59:59 done.\n",
      "SH600150 on 2024-09-18 is not found.\n",
      "SH600150 doesn't have return data.\n",
      "SH601211 on 2024-09-18 is not found.\n",
      "SH601211 doesn't have return data.\n",
      "SH601989 on 2024-09-18 is not found.\n",
      "SH601989 doesn't have return data.\n",
      "2024-09-18 00:00:00 to 2024-09-18 23:59:59 done.\n",
      "SH601211 on 2024-09-19 is not found.\n",
      "SH601211 doesn't have return data.\n",
      "2024-09-19 00:00:00 to 2024-09-19 23:59:59 done.\n",
      "SH601211 on 2024-09-20 is not found.\n",
      "SH601211 doesn't have return data.\n",
      "2024-09-20 00:00:00 to 2024-09-20 23:59:59 done.\n",
      "2024-09-21 00:00:00 to 2024-09-21 23:59:59 done.\n",
      "2024-09-22 00:00:00 to 2024-09-22 23:59:59 done.\n",
      "SH601211 on 2024-09-23 is not found.\n",
      "SH601211 doesn't have return data.\n",
      "2024-09-23 00:00:00 to 2024-09-23 23:59:59 done.\n",
      "SH601211 on 2024-09-24 is not found.\n",
      "SH601211 doesn't have return data.\n",
      "2024-09-24 00:00:00 to 2024-09-24 23:59:59 done.\n",
      "SH601211 on 2024-09-25 is not found.\n",
      "SH601211 doesn't have return data.\n",
      "2024-09-25 00:00:00 to 2024-09-25 23:59:59 done.\n",
      "SH601211 on 2024-09-26 is not found.\n",
      "SH601211 doesn't have return data.\n",
      "2024-09-26 00:00:00 to 2024-09-26 23:59:59 done.\n",
      "SH601211 on 2024-09-27 is not found.\n",
      "SH601211 doesn't have return data.\n",
      "2024-09-27 00:00:00 to 2024-09-27 23:59:59 done.\n",
      "2024-09-28 00:00:00 to 2024-09-28 23:59:59 done.\n",
      "2024-09-29 00:00:00 to 2024-09-29 23:59:59 done.\n"
     ]
    },
    {
     "name": "stderr",
     "output_type": "stream",
     "text": [
      "D:\\Ctrans\\Programs\\anaconda3\\Lib\\site-packages\\statsmodels\\regression\\linear_model.py:1781: RuntimeWarning: invalid value encountered in scalar divide\n",
      "  return 1 - self.ssr/self.centered_tss\n"
     ]
    },
    {
     "name": "stdout",
     "output_type": "stream",
     "text": [
      "SH601211 on 2024-09-30 is not found.\n",
      "SH601211 doesn't have return data.\n",
      "2024-09-30 00:00:00 to 2024-09-30 23:59:59 done.\n",
      "2024-10-01 00:00:00 to 2024-10-01 23:59:59 done.\n",
      "2024-10-02 00:00:00 to 2024-10-02 23:59:59 done.\n",
      "2024-10-03 00:00:00 to 2024-10-03 23:59:59 done.\n",
      "2024-10-04 00:00:00 to 2024-10-04 23:59:59 done.\n",
      "2024-10-05 00:00:00 to 2024-10-05 23:59:59 done.\n",
      "2024-10-06 00:00:00 to 2024-10-06 23:59:59 done.\n",
      "2024-10-07 00:00:00 to 2024-10-07 23:59:59 done.\n"
     ]
    },
    {
     "name": "stderr",
     "output_type": "stream",
     "text": [
      "D:\\Ctrans\\Programs\\anaconda3\\Lib\\site-packages\\statsmodels\\regression\\linear_model.py:1781: RuntimeWarning: invalid value encountered in scalar divide\n",
      "  return 1 - self.ssr/self.centered_tss\n",
      "D:\\Ctrans\\Programs\\anaconda3\\Lib\\site-packages\\statsmodels\\regression\\linear_model.py:1781: RuntimeWarning: invalid value encountered in scalar divide\n",
      "  return 1 - self.ssr/self.centered_tss\n",
      "D:\\Ctrans\\Programs\\anaconda3\\Lib\\site-packages\\statsmodels\\regression\\linear_model.py:1781: RuntimeWarning: invalid value encountered in scalar divide\n",
      "  return 1 - self.ssr/self.centered_tss\n",
      "D:\\Ctrans\\Programs\\anaconda3\\Lib\\site-packages\\statsmodels\\regression\\linear_model.py:1781: RuntimeWarning: invalid value encountered in scalar divide\n",
      "  return 1 - self.ssr/self.centered_tss\n"
     ]
    },
    {
     "name": "stdout",
     "output_type": "stream",
     "text": [
      "SH601211 on 2024-10-08 is not found.\n",
      "SH601211 doesn't have return data.\n"
     ]
    },
    {
     "name": "stderr",
     "output_type": "stream",
     "text": [
      "D:\\Ctrans\\Programs\\anaconda3\\Lib\\site-packages\\statsmodels\\regression\\linear_model.py:1781: RuntimeWarning: invalid value encountered in scalar divide\n",
      "  return 1 - self.ssr/self.centered_tss\n"
     ]
    },
    {
     "name": "stdout",
     "output_type": "stream",
     "text": [
      "2024-10-08 00:00:00 to 2024-10-08 23:59:59 done.\n"
     ]
    },
    {
     "name": "stderr",
     "output_type": "stream",
     "text": [
      "D:\\Ctrans\\Programs\\anaconda3\\Lib\\site-packages\\statsmodels\\regression\\linear_model.py:1781: RuntimeWarning: invalid value encountered in scalar divide\n",
      "  return 1 - self.ssr/self.centered_tss\n"
     ]
    },
    {
     "name": "stdout",
     "output_type": "stream",
     "text": [
      "SH601211 on 2024-10-09 is not found.\n",
      "SH601211 doesn't have return data.\n",
      "2024-10-09 00:00:00 to 2024-10-09 23:59:59 done.\n"
     ]
    },
    {
     "name": "stderr",
     "output_type": "stream",
     "text": [
      "D:\\Ctrans\\Programs\\anaconda3\\Lib\\site-packages\\statsmodels\\regression\\linear_model.py:1781: RuntimeWarning: invalid value encountered in scalar divide\n",
      "  return 1 - self.ssr/self.centered_tss\n"
     ]
    },
    {
     "name": "stdout",
     "output_type": "stream",
     "text": [
      "2024-10-10 00:00:00 to 2024-10-10 23:59:59 done.\n"
     ]
    },
    {
     "name": "stderr",
     "output_type": "stream",
     "text": [
      "D:\\Ctrans\\Programs\\anaconda3\\Lib\\site-packages\\statsmodels\\regression\\linear_model.py:1781: RuntimeWarning: invalid value encountered in scalar divide\n",
      "  return 1 - self.ssr/self.centered_tss\n"
     ]
    },
    {
     "name": "stdout",
     "output_type": "stream",
     "text": [
      "2024-10-11 00:00:00 to 2024-10-11 23:59:59 done.\n",
      "2024-10-12 00:00:00 to 2024-10-12 23:59:59 done.\n",
      "2024-10-13 00:00:00 to 2024-10-13 23:59:59 done.\n",
      "2024-10-14 00:00:00 to 2024-10-14 23:59:59 done.\n",
      "2024-10-15 00:00:00 to 2024-10-15 23:59:59 done.\n",
      "2024-10-16 00:00:00 to 2024-10-16 23:59:59 done.\n",
      "2024-10-17 00:00:00 to 2024-10-17 23:59:59 done.\n",
      "2024-10-18 00:00:00 to 2024-10-18 23:59:59 done.\n",
      "2024-10-19 00:00:00 to 2024-10-19 23:59:59 done.\n",
      "2024-10-20 00:00:00 to 2024-10-20 23:59:59 done.\n",
      "2024-10-21 00:00:00 to 2024-10-21 23:59:59 done.\n",
      "2024-10-22 00:00:00 to 2024-10-22 23:59:59 done.\n"
     ]
    },
    {
     "name": "stderr",
     "output_type": "stream",
     "text": [
      "D:\\Ctrans\\Programs\\anaconda3\\Lib\\site-packages\\statsmodels\\regression\\linear_model.py:1781: RuntimeWarning: invalid value encountered in scalar divide\n",
      "  return 1 - self.ssr/self.centered_tss\n"
     ]
    },
    {
     "name": "stdout",
     "output_type": "stream",
     "text": [
      "2024-10-23 00:00:00 to 2024-10-23 23:59:59 done.\n",
      "2024-10-24 00:00:00 to 2024-10-24 23:59:59 done.\n",
      "2024-10-25 00:00:00 to 2024-10-25 23:59:59 done.\n",
      "2024-10-26 00:00:00 to 2024-10-26 23:59:59 done.\n",
      "2024-10-27 00:00:00 to 2024-10-27 23:59:59 done.\n"
     ]
    },
    {
     "ename": "KeyError",
     "evalue": "\"[Timestamp('2024-10-28 15:00:00')] not in index\"",
     "output_type": "error",
     "traceback": [
      "\u001b[1;31m---------------------------------------------------------------------------\u001b[0m",
      "\u001b[1;31mKeyError\u001b[0m                                  Traceback (most recent call last)",
      "Cell \u001b[1;32mIn[8], line 5\u001b[0m\n\u001b[0;32m      3\u001b[0m result\u001b[38;5;241m=\u001b[39mpd\u001b[38;5;241m.\u001b[39mDataFrame()\n\u001b[0;32m      4\u001b[0m \u001b[38;5;28;01mfor\u001b[39;00m index_class \u001b[38;5;129;01min\u001b[39;00m [cn300,cn500,cn1000]:\n\u001b[1;32m----> 5\u001b[0m     s\u001b[38;5;241m=\u001b[39mindex_class\u001b[38;5;241m.\u001b[39mperiodic_cal_syn(\u001b[38;5;124m'\u001b[39m\u001b[38;5;124mD\u001b[39m\u001b[38;5;124m'\u001b[39m)\n\u001b[0;32m      6\u001b[0m     result\u001b[38;5;241m=\u001b[39mpd\u001b[38;5;241m.\u001b[39mconcat([result,s],axis\u001b[38;5;241m=\u001b[39m\u001b[38;5;241m1\u001b[39m)\n\u001b[0;32m      7\u001b[0m     plt\u001b[38;5;241m.\u001b[39mplot(s,label\u001b[38;5;241m=\u001b[39mindex_class\u001b[38;5;241m.\u001b[39mindex_name)\n",
      "Cell \u001b[1;32mIn[6], line 258\u001b[0m, in \u001b[0;36mIndexData.periodic_cal_syn\u001b[1;34m(self, period, start, end)\u001b[0m\n\u001b[0;32m    255\u001b[0m     period_end\u001b[38;5;241m=\u001b[39mdt\u001b[38;5;241m.\u001b[39mdatetime\u001b[38;5;241m.\u001b[39mstrftime(period_end,\u001b[38;5;124m\"\u001b[39m\u001b[38;5;124m%\u001b[39m\u001b[38;5;124mY-\u001b[39m\u001b[38;5;124m%\u001b[39m\u001b[38;5;124mm-\u001b[39m\u001b[38;5;132;01m%d\u001b[39;00m\u001b[38;5;124m \u001b[39m\u001b[38;5;124m%\u001b[39m\u001b[38;5;124mH:\u001b[39m\u001b[38;5;124m%\u001b[39m\u001b[38;5;124mM:\u001b[39m\u001b[38;5;124m%\u001b[39m\u001b[38;5;124mS\u001b[39m\u001b[38;5;124m\"\u001b[39m)\n\u001b[0;32m    256\u001b[0m     \u001b[38;5;66;03m# print(period_start,period_end)\u001b[39;00m\n\u001b[1;32m--> 258\u001b[0m     syns\u001b[38;5;241m.\u001b[39mloc[period_start,\u001b[38;5;124m'\u001b[39m\u001b[38;5;124msyn\u001b[39m\u001b[38;5;124m'\u001b[39m]\u001b[38;5;241m=\u001b[39m\u001b[38;5;28mself\u001b[39m\u001b[38;5;241m.\u001b[39mcal_syn(period_start,period_end)[\u001b[38;5;241m0\u001b[39m]\n\u001b[0;32m    259\u001b[0m     \u001b[38;5;28mprint\u001b[39m(\u001b[38;5;124mf\u001b[39m\u001b[38;5;124m'\u001b[39m\u001b[38;5;132;01m{\u001b[39;00mperiod_start\u001b[38;5;132;01m}\u001b[39;00m\u001b[38;5;124m to \u001b[39m\u001b[38;5;132;01m{\u001b[39;00mperiod_end\u001b[38;5;132;01m}\u001b[39;00m\u001b[38;5;124m done.\u001b[39m\u001b[38;5;124m'\u001b[39m)\n\u001b[0;32m    260\u001b[0m \u001b[38;5;28;01mreturn\u001b[39;00m syns\n",
      "Cell \u001b[1;32mIn[6], line 210\u001b[0m, in \u001b[0;36mIndexData.cal_syn\u001b[1;34m(self, start, end)\u001b[0m\n\u001b[0;32m    201\u001b[0m \u001b[38;5;28;01mif\u001b[39;00m stock_return\u001b[38;5;241m.\u001b[39mshape[\u001b[38;5;241m0\u001b[39m]\u001b[38;5;241m>\u001b[39m\u001b[38;5;241m0\u001b[39m:\n\u001b[0;32m    202\u001b[0m     \n\u001b[0;32m    203\u001b[0m     \u001b[38;5;66;03m# 这一步的计算可以进一步优化，因为对于所有的个股，计算beta时使用的(XtX)-1Xt都是相同的\u001b[39;00m\n\u001b[1;32m   (...)\u001b[0m\n\u001b[0;32m    206\u001b[0m     \u001b[38;5;66;03m# 因为个股可能停牌，但是指数不会停牌\u001b[39;00m\n\u001b[0;32m    207\u001b[0m     \u001b[38;5;66;03m# 对于期间内停牌的个股，只使用有价格变动区间的数据\u001b[39;00m\n\u001b[0;32m    209\u001b[0m     Y \u001b[38;5;241m=\u001b[39m stock_return\n\u001b[1;32m--> 210\u001b[0m     X \u001b[38;5;241m=\u001b[39m \u001b[38;5;28mself\u001b[39m\u001b[38;5;241m.\u001b[39mindex_return[stock_return\u001b[38;5;241m.\u001b[39mindex]\u001b[38;5;241m.\u001b[39mcopy()\n\u001b[0;32m    212\u001b[0m     \u001b[38;5;66;03m# print(Y.index)\u001b[39;00m\n\u001b[0;32m    213\u001b[0m     \u001b[38;5;66;03m# print(self.index_return[start:end].index)\u001b[39;00m\n\u001b[0;32m    214\u001b[0m     \u001b[38;5;66;03m# break\u001b[39;00m\n\u001b[0;32m    215\u001b[0m     \n\u001b[0;32m    216\u001b[0m     \u001b[38;5;66;03m# if (len(X.index)!=len(self.index_return[start:end].index)): \u001b[39;00m\n\u001b[0;32m    217\u001b[0m         \u001b[38;5;66;03m# print(f\"{full_code}'s index doesn't fully match between {start} and {end}.\")\u001b[39;00m\n\u001b[0;32m    219\u001b[0m     X \u001b[38;5;241m=\u001b[39m sm\u001b[38;5;241m.\u001b[39madd_constant(X)  \u001b[38;5;66;03m# 添加常数项\u001b[39;00m\n",
      "File \u001b[1;32mD:\\Ctrans\\Programs\\anaconda3\\Lib\\site-packages\\pandas\\core\\series.py:1033\u001b[0m, in \u001b[0;36mSeries.__getitem__\u001b[1;34m(self, key)\u001b[0m\n\u001b[0;32m   1030\u001b[0m     key \u001b[38;5;241m=\u001b[39m np\u001b[38;5;241m.\u001b[39masarray(key, dtype\u001b[38;5;241m=\u001b[39m\u001b[38;5;28mbool\u001b[39m)\n\u001b[0;32m   1031\u001b[0m     \u001b[38;5;28;01mreturn\u001b[39;00m \u001b[38;5;28mself\u001b[39m\u001b[38;5;241m.\u001b[39m_get_values(key)\n\u001b[1;32m-> 1033\u001b[0m \u001b[38;5;28;01mreturn\u001b[39;00m \u001b[38;5;28mself\u001b[39m\u001b[38;5;241m.\u001b[39m_get_with(key)\n",
      "File \u001b[1;32mD:\\Ctrans\\Programs\\anaconda3\\Lib\\site-packages\\pandas\\core\\series.py:1073\u001b[0m, in \u001b[0;36mSeries._get_with\u001b[1;34m(self, key)\u001b[0m\n\u001b[0;32m   1070\u001b[0m         \u001b[38;5;28;01mreturn\u001b[39;00m \u001b[38;5;28mself\u001b[39m\u001b[38;5;241m.\u001b[39miloc[key]\n\u001b[0;32m   1072\u001b[0m \u001b[38;5;66;03m# handle the dup indexing case GH#4246\u001b[39;00m\n\u001b[1;32m-> 1073\u001b[0m \u001b[38;5;28;01mreturn\u001b[39;00m \u001b[38;5;28mself\u001b[39m\u001b[38;5;241m.\u001b[39mloc[key]\n",
      "File \u001b[1;32mD:\\Ctrans\\Programs\\anaconda3\\Lib\\site-packages\\pandas\\core\\indexing.py:1103\u001b[0m, in \u001b[0;36m_LocationIndexer.__getitem__\u001b[1;34m(self, key)\u001b[0m\n\u001b[0;32m   1100\u001b[0m axis \u001b[38;5;241m=\u001b[39m \u001b[38;5;28mself\u001b[39m\u001b[38;5;241m.\u001b[39maxis \u001b[38;5;129;01mor\u001b[39;00m \u001b[38;5;241m0\u001b[39m\n\u001b[0;32m   1102\u001b[0m maybe_callable \u001b[38;5;241m=\u001b[39m com\u001b[38;5;241m.\u001b[39mapply_if_callable(key, \u001b[38;5;28mself\u001b[39m\u001b[38;5;241m.\u001b[39mobj)\n\u001b[1;32m-> 1103\u001b[0m \u001b[38;5;28;01mreturn\u001b[39;00m \u001b[38;5;28mself\u001b[39m\u001b[38;5;241m.\u001b[39m_getitem_axis(maybe_callable, axis\u001b[38;5;241m=\u001b[39maxis)\n",
      "File \u001b[1;32mD:\\Ctrans\\Programs\\anaconda3\\Lib\\site-packages\\pandas\\core\\indexing.py:1332\u001b[0m, in \u001b[0;36m_LocIndexer._getitem_axis\u001b[1;34m(self, key, axis)\u001b[0m\n\u001b[0;32m   1329\u001b[0m     \u001b[38;5;28;01mif\u001b[39;00m \u001b[38;5;28mhasattr\u001b[39m(key, \u001b[38;5;124m\"\u001b[39m\u001b[38;5;124mndim\u001b[39m\u001b[38;5;124m\"\u001b[39m) \u001b[38;5;129;01mand\u001b[39;00m key\u001b[38;5;241m.\u001b[39mndim \u001b[38;5;241m>\u001b[39m \u001b[38;5;241m1\u001b[39m:\n\u001b[0;32m   1330\u001b[0m         \u001b[38;5;28;01mraise\u001b[39;00m \u001b[38;5;167;01mValueError\u001b[39;00m(\u001b[38;5;124m\"\u001b[39m\u001b[38;5;124mCannot index with multidimensional key\u001b[39m\u001b[38;5;124m\"\u001b[39m)\n\u001b[1;32m-> 1332\u001b[0m     \u001b[38;5;28;01mreturn\u001b[39;00m \u001b[38;5;28mself\u001b[39m\u001b[38;5;241m.\u001b[39m_getitem_iterable(key, axis\u001b[38;5;241m=\u001b[39maxis)\n\u001b[0;32m   1334\u001b[0m \u001b[38;5;66;03m# nested tuple slicing\u001b[39;00m\n\u001b[0;32m   1335\u001b[0m \u001b[38;5;28;01mif\u001b[39;00m is_nested_tuple(key, labels):\n",
      "File \u001b[1;32mD:\\Ctrans\\Programs\\anaconda3\\Lib\\site-packages\\pandas\\core\\indexing.py:1272\u001b[0m, in \u001b[0;36m_LocIndexer._getitem_iterable\u001b[1;34m(self, key, axis)\u001b[0m\n\u001b[0;32m   1269\u001b[0m \u001b[38;5;28mself\u001b[39m\u001b[38;5;241m.\u001b[39m_validate_key(key, axis)\n\u001b[0;32m   1271\u001b[0m \u001b[38;5;66;03m# A collection of keys\u001b[39;00m\n\u001b[1;32m-> 1272\u001b[0m keyarr, indexer \u001b[38;5;241m=\u001b[39m \u001b[38;5;28mself\u001b[39m\u001b[38;5;241m.\u001b[39m_get_listlike_indexer(key, axis)\n\u001b[0;32m   1273\u001b[0m \u001b[38;5;28;01mreturn\u001b[39;00m \u001b[38;5;28mself\u001b[39m\u001b[38;5;241m.\u001b[39mobj\u001b[38;5;241m.\u001b[39m_reindex_with_indexers(\n\u001b[0;32m   1274\u001b[0m     {axis: [keyarr, indexer]}, copy\u001b[38;5;241m=\u001b[39m\u001b[38;5;28;01mTrue\u001b[39;00m, allow_dups\u001b[38;5;241m=\u001b[39m\u001b[38;5;28;01mTrue\u001b[39;00m\n\u001b[0;32m   1275\u001b[0m )\n",
      "File \u001b[1;32mD:\\Ctrans\\Programs\\anaconda3\\Lib\\site-packages\\pandas\\core\\indexing.py:1462\u001b[0m, in \u001b[0;36m_LocIndexer._get_listlike_indexer\u001b[1;34m(self, key, axis)\u001b[0m\n\u001b[0;32m   1459\u001b[0m ax \u001b[38;5;241m=\u001b[39m \u001b[38;5;28mself\u001b[39m\u001b[38;5;241m.\u001b[39mobj\u001b[38;5;241m.\u001b[39m_get_axis(axis)\n\u001b[0;32m   1460\u001b[0m axis_name \u001b[38;5;241m=\u001b[39m \u001b[38;5;28mself\u001b[39m\u001b[38;5;241m.\u001b[39mobj\u001b[38;5;241m.\u001b[39m_get_axis_name(axis)\n\u001b[1;32m-> 1462\u001b[0m keyarr, indexer \u001b[38;5;241m=\u001b[39m ax\u001b[38;5;241m.\u001b[39m_get_indexer_strict(key, axis_name)\n\u001b[0;32m   1464\u001b[0m \u001b[38;5;28;01mreturn\u001b[39;00m keyarr, indexer\n",
      "File \u001b[1;32mD:\\Ctrans\\Programs\\anaconda3\\Lib\\site-packages\\pandas\\core\\indexes\\base.py:5877\u001b[0m, in \u001b[0;36mIndex._get_indexer_strict\u001b[1;34m(self, key, axis_name)\u001b[0m\n\u001b[0;32m   5874\u001b[0m \u001b[38;5;28;01melse\u001b[39;00m:\n\u001b[0;32m   5875\u001b[0m     keyarr, indexer, new_indexer \u001b[38;5;241m=\u001b[39m \u001b[38;5;28mself\u001b[39m\u001b[38;5;241m.\u001b[39m_reindex_non_unique(keyarr)\n\u001b[1;32m-> 5877\u001b[0m \u001b[38;5;28mself\u001b[39m\u001b[38;5;241m.\u001b[39m_raise_if_missing(keyarr, indexer, axis_name)\n\u001b[0;32m   5879\u001b[0m keyarr \u001b[38;5;241m=\u001b[39m \u001b[38;5;28mself\u001b[39m\u001b[38;5;241m.\u001b[39mtake(indexer)\n\u001b[0;32m   5880\u001b[0m \u001b[38;5;28;01mif\u001b[39;00m \u001b[38;5;28misinstance\u001b[39m(key, Index):\n\u001b[0;32m   5881\u001b[0m     \u001b[38;5;66;03m# GH 42790 - Preserve name from an Index\u001b[39;00m\n",
      "File \u001b[1;32mD:\\Ctrans\\Programs\\anaconda3\\Lib\\site-packages\\pandas\\core\\indexes\\base.py:5941\u001b[0m, in \u001b[0;36mIndex._raise_if_missing\u001b[1;34m(self, key, indexer, axis_name)\u001b[0m\n\u001b[0;32m   5938\u001b[0m     \u001b[38;5;28;01mraise\u001b[39;00m \u001b[38;5;167;01mKeyError\u001b[39;00m(\u001b[38;5;124mf\u001b[39m\u001b[38;5;124m\"\u001b[39m\u001b[38;5;124mNone of [\u001b[39m\u001b[38;5;132;01m{\u001b[39;00mkey\u001b[38;5;132;01m}\u001b[39;00m\u001b[38;5;124m] are in the [\u001b[39m\u001b[38;5;132;01m{\u001b[39;00maxis_name\u001b[38;5;132;01m}\u001b[39;00m\u001b[38;5;124m]\u001b[39m\u001b[38;5;124m\"\u001b[39m)\n\u001b[0;32m   5940\u001b[0m not_found \u001b[38;5;241m=\u001b[39m \u001b[38;5;28mlist\u001b[39m(ensure_index(key)[missing_mask\u001b[38;5;241m.\u001b[39mnonzero()[\u001b[38;5;241m0\u001b[39m]]\u001b[38;5;241m.\u001b[39munique())\n\u001b[1;32m-> 5941\u001b[0m \u001b[38;5;28;01mraise\u001b[39;00m \u001b[38;5;167;01mKeyError\u001b[39;00m(\u001b[38;5;124mf\u001b[39m\u001b[38;5;124m\"\u001b[39m\u001b[38;5;132;01m{\u001b[39;00mnot_found\u001b[38;5;132;01m}\u001b[39;00m\u001b[38;5;124m not in index\u001b[39m\u001b[38;5;124m\"\u001b[39m)\n",
      "\u001b[1;31mKeyError\u001b[0m: \"[Timestamp('2024-10-28 15:00:00')] not in index\""
     ]
    }
   ],
   "source": [
    "# for index_class in [cn300,cn500,cn1000]:\n",
    "#     cn300.periodic_cal_syn()\n",
    "result=pd.DataFrame()\n",
    "for index_class in [cn300,cn500,cn1000]:\n",
    "    s=index_class.periodic_cal_syn('D')\n",
    "    result=pd.concat([result,s],axis=1)\n",
    "    plt.plot(s,label=index_class.index_name)\n",
    "    print(index_class.index_name)\n",
    "plt.legend()\n",
    "plt.show()\n",
    "result.to_excel(f'high_freq.xlsx')"
   ]
  },
  {
   "cell_type": "code",
   "execution_count": null,
   "id": "3265cdc855e0f471",
   "metadata": {
    "ExecuteTime": {
     "end_time": "2025-04-06T17:42:56.717851Z",
     "start_time": "2025-04-06T17:42:56.716852Z"
    }
   },
   "outputs": [],
   "source": [
    "pd.to_numeric(syns['syn']).dropna().plot()\n",
    "plt.show()"
   ]
  },
  {
   "cell_type": "code",
   "execution_count": null,
   "id": "eccc34d45b986e3b",
   "metadata": {},
   "outputs": [],
   "source": [
    "start=\"2024-10-03\"\n",
    "end=\"2024-10-30\"\n",
    "\n",
    "cn1000=IndexData(\"SH000905\",start,end)\n",
    "cn1000.set_freq(\"10min\")\n",
    "# cn1000.index_return\n",
    "syns=cn1000.periodic_cal_syn(\"D\",start,end)"
   ]
  },
  {
   "cell_type": "code",
   "execution_count": null,
   "id": "f990bd6266d7d38",
   "metadata": {},
   "outputs": [],
   "source": [
    "freq=\"10min\""
   ]
  },
  {
   "cell_type": "code",
   "execution_count": null,
   "id": "821a9ba98a20234f",
   "metadata": {},
   "outputs": [],
   "source": [
    "cn1000.df_index.set_index('Time').resample(freq).last()"
   ]
  },
  {
   "cell_type": "code",
   "execution_count": null,
   "id": "ebf739f38bbc6fa8",
   "metadata": {},
   "outputs": [],
   "source": [
    "resample(cn1000.df_index,cn1000.t_range,cn1000.freq)"
   ]
  },
  {
   "cell_type": "code",
   "execution_count": null,
   "id": "224da3f89a584d03",
   "metadata": {},
   "outputs": [],
   "source": [
    "cn1000.t_range"
   ]
  },
  {
   "cell_type": "code",
   "execution_count": null,
   "id": "24a15dab8de75494",
   "metadata": {},
   "outputs": [],
   "source": [
    "cn1000.index_return"
   ]
  },
  {
   "cell_type": "code",
   "execution_count": null,
   "id": "b9909a3b3a3fe344",
   "metadata": {},
   "outputs": [],
   "source": [
    "start=\"2024-08-13\"\n",
    "end=\"2024-09-23\"\n",
    "\n",
    "cn300_not=IndexData(\"SH000300\",start,end)\n",
    "cn300_not.set_freq(\"5min\")\n",
    "syn_not,R2_series_not,betas_not,vars_not=cn300_not.cal_syn()"
   ]
  },
  {
   "cell_type": "code",
   "execution_count": null,
   "id": "891574b52562d453",
   "metadata": {},
   "outputs": [],
   "source": [
    "start=\"2024-09-24\"\n",
    "end=\"2024-11-07\"\n",
    "\n",
    "cn300_is=IndexData(\"SH000300\",start,end)\n",
    "cn300_is.set_freq(\"5min\")\n",
    "syn_is,R2_series_is,betas_is,vars_is=cn300_is.cal_syn()"
   ]
  },
  {
   "cell_type": "code",
   "execution_count": null,
   "id": "c09d1799ac87d2b6",
   "metadata": {},
   "outputs": [],
   "source": [
    "syn_not,syn_is"
   ]
  },
  {
   "cell_type": "markdown",
   "id": "56e1d26200e221e4",
   "metadata": {},
   "source": [
    "V.\t同步性的意义不明确的问题"
   ]
  },
  {
   "cell_type": "code",
   "execution_count": null,
   "id": "56bb15e2d07942b1",
   "metadata": {},
   "outputs": [],
   "source": [
    "df_600=pd.read_csv(\"E:\\\\2024\\\\ws20240102fb\\\\SH\\\\SH600519.csv\")[['Time','Price']]\n",
    "df_300=pd.read_csv(\"E:\\\\2024\\\\ws20240102fb\\\\SH\\\\SH000300.csv\")[['Time','Price']]"
   ]
  },
  {
   "cell_type": "code",
   "execution_count": null,
   "id": "85a03ff1e979dbae",
   "metadata": {},
   "outputs": [],
   "source": [
    "df=(pd.merge(df_300,df_600,on=\"Time\",how=\"outer\",suffixes=(\"_300\",\"_600\")).ffill().bfill().set_index('Time'))\n",
    "df.index=pd.to_datetime(df.index)\n",
    "df.sort_index(inplace=True)\n",
    "(df.resample('30s').mean().pct_change()+1).cumprod().plot()"
   ]
  },
  {
   "cell_type": "code",
   "execution_count": null,
   "id": "ca5ba291aede82a9",
   "metadata": {},
   "outputs": [],
   "source": [
    "Y=df[['Price_600']].resample('2min').mean().pct_change().dropna()\n",
    "X=df[['Price_300']].resample('2min').mean().pct_change().dropna()\n",
    "X = sm.add_constant(X)  # 添加常数项\n",
    "model = sm.OLS(Y, X).fit()"
   ]
  },
  {
   "cell_type": "code",
   "execution_count": null,
   "id": "352132fd3da37b32",
   "metadata": {},
   "outputs": [],
   "source": [
    "model.summary()"
   ]
  },
  {
   "cell_type": "code",
   "execution_count": null,
   "id": "70feeac50f16c1e6",
   "metadata": {},
   "outputs": [],
   "source": [
    "df.resample('5min').mean().pct_change().dropna().plot(x=\"Price_300\",y=\"Price_600\",kind=\"scatter\")"
   ]
  },
  {
   "cell_type": "markdown",
   "id": "fca5bd94692657e5",
   "metadata": {},
   "source": [
    "报错的试验田"
   ]
  },
  {
   "cell_type": "code",
   "execution_count": null,
   "id": "df99089799f17dc8",
   "metadata": {},
   "outputs": [],
   "source": [
    "df_index=pd.read_csv(\"E:\\\\2024\\\\ws20240102fb\\\\SH\\\\SH000905.csv\")[['Time','Price']]\n",
    "df_index.loc[0]"
   ]
  },
  {
   "cell_type": "code",
   "execution_count": null,
   "id": "bfdba812607e3198",
   "metadata": {},
   "outputs": [],
   "source": [
    "df_index=pd.read_csv(\"E:\\\\2024\\\\ws20240102fb\\\\SH\\\\SH000905.csv\")[['Time','Price']]\n",
    "df_index['Time']=pd.to_datetime(df_index['Time'])\n",
    "# df_test.index=pd.to_datetime(df_test.index)\n",
    "X=cal_return(df_index,cn300.t_range,\"5min\")"
   ]
  },
  {
   "cell_type": "code",
   "execution_count": null,
   "id": "15b45616b626e01d",
   "metadata": {},
   "outputs": [],
   "source": [
    "df_test=pd.read_csv(\"E:\\\\2024\\\\ws20240102fb\\\\SH\\\\SH600004.csv\")[['Time','Price']]\n",
    "df_test['Time']=pd.to_datetime(df_test['Time'])\n",
    "# df_test.index=pd.to_datetime(df_test.index)\n",
    "# Y=cal_return(df_test,cn300.t_range,\"5min\")"
   ]
  },
  {
   "cell_type": "code",
   "execution_count": null,
   "id": "9b846f41c54f2430",
   "metadata": {},
   "outputs": [],
   "source": [
    "df_test=pd.read_csv(\"E:\\\\2024\\\\ws20240102fb\\\\SH\\\\SH600004.csv\")\n",
    "df_test"
   ]
  },
  {
   "cell_type": "code",
   "execution_count": null,
   "id": "34f1edcd283073b2",
   "metadata": {},
   "outputs": [],
   "source": [
    "df_test=pd.read_csv(\"E:\\\\2024\\\\ws20240102fb\\\\SH\\\\SH600004.csv\")\n",
    "df_test.loc[df_test.shape[0]]=df_test.iloc[0]\n",
    "df_test.loc[df_test.index[-1],'Time']=\"2024-01-02 09:15:00\"\n",
    "df_test['Time']=pd.to_datetime(df_test['Time'])\n",
    "df_test.sort_values(\"Time\",inplace=True,ascending=True)\n",
    "df_test"
   ]
  },
  {
   "cell_type": "code",
   "execution_count": null,
   "id": "779ebf7cea3ea204",
   "metadata": {},
   "outputs": [],
   "source": [
    "df_test=pd.read_csv(\"E:\\\\2024\\\\ws20240102fb\\\\SH\\\\SH600004.csv\")\n",
    "\n",
    "df_test.loc[df_test.index[-1]:'Time']"
   ]
  },
  {
   "cell_type": "code",
   "execution_count": null,
   "id": "47b3bf8d9870a5e6",
   "metadata": {},
   "outputs": [],
   "source": [
    "df_test\n"
   ]
  },
  {
   "cell_type": "code",
   "execution_count": null,
   "id": "8aab1ed64f721a96",
   "metadata": {},
   "outputs": [],
   "source": [
    "X=sm.add_constant(X)\n",
    "model = sm.OLS(Y, X).fit()\n",
    "model.summary()"
   ]
  },
  {
   "cell_type": "code",
   "execution_count": null,
   "id": "4a4bbafd8ae149f1",
   "metadata": {},
   "outputs": [],
   "source": [
    "cal_return(df_test,cn300.t_range,\"5min\").shape\n"
   ]
  },
  {
   "cell_type": "code",
   "execution_count": null,
   "id": "a24d40b68e1c5c16",
   "metadata": {},
   "outputs": [],
   "source": [
    "df_test"
   ]
  },
  {
   "cell_type": "code",
   "execution_count": null,
   "id": "b09d0c15a2443eb4",
   "metadata": {},
   "outputs": [],
   "source": [
    "start=\"2024-01-01 12:00:00\"\n",
    "end=\"2024-04-03 12:00:00\"\n",
    "for time in pd.date_range(start,end,freq=\"1MIN\"):    print(time)"
   ]
  },
  {
   "cell_type": "code",
   "execution_count": null,
   "id": "e0c096975e0cec2b",
   "metadata": {},
   "outputs": [],
   "source": []
  },
  {
   "cell_type": "code",
   "execution_count": null,
   "id": "d9513e8f5895d863",
   "metadata": {},
   "outputs": [],
   "source": [
    "df_600=pd.read_csv(\"E:\\\\2024\\\\ws20240102fb\\\\SZ\\\\SZ000003.csv\")[['Time','Price']]\n",
    "df_300=pd.read_csv(\"E:\\\\2024\\\\ws20240102fb\\\\SH\\\\SH000300.csv\")[['Time','Price']]"
   ]
  },
  {
   "cell_type": "code",
   "execution_count": null,
   "id": "2b4db75d5c8a4e59",
   "metadata": {},
   "outputs": [],
   "source": [
    "df=(pd.merge(df_300,df_600,on=\"Time\",how=\"outer\",suffixes=(\"_300\",\"_600\")).ffill().bfill().set_index('Time'))\n",
    "df.index=pd.to_datetime(df.index)\n",
    "df.sort_index(inplace=True)\n",
    "(df.resample('30s').mean().pct_change()+1).cumprod().plot()"
   ]
  },
  {
   "cell_type": "code",
   "execution_count": null,
   "id": "b3e0df08b14a6750",
   "metadata": {},
   "outputs": [],
   "source": [
    "Y=df[['Price_600']].resample('2min').mean().pct_change().dropna()\n",
    "X=df[['Price_300']].resample('2min').mean().pct_change().dropna()\n",
    "X = sm.add_constant(X)  # 添加常数项\n",
    "model = sm.OLS(Y, X).fit()"
   ]
  },
  {
   "cell_type": "code",
   "execution_count": null,
   "id": "1a4733e609470be0",
   "metadata": {},
   "outputs": [],
   "source": [
    "model.summary()"
   ]
  },
  {
   "cell_type": "code",
   "execution_count": null,
   "id": "581d071755da8e85",
   "metadata": {},
   "outputs": [],
   "source": [
    "df.resample('5min').mean().pct_change().dropna().plot(x=\"Price_300\",y=\"Price_600\",kind=\"scatter\")"
   ]
  },
  {
   "cell_type": "code",
   "execution_count": null,
   "id": "dc02b721ab747e84",
   "metadata": {},
   "outputs": [],
   "source": []
  }
 ],
 "metadata": {
  "kernelspec": {
   "display_name": "base",
   "language": "python",
   "name": "python3"
  },
  "language_info": {
   "codemirror_mode": {
    "name": "ipython",
    "version": 3
   },
   "file_extension": ".py",
   "mimetype": "text/x-python",
   "name": "python",
   "nbconvert_exporter": "python",
   "pygments_lexer": "ipython3",
   "version": "3.11.5"
  }
 },
 "nbformat": 4,
 "nbformat_minor": 5
}
